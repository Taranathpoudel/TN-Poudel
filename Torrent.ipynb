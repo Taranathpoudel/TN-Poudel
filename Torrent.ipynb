{
  "nbformat": 4,
  "nbformat_minor": 0,
  "metadata": {
    "colab": {
      "name": "Torrent.ipynb",
      "provenance": [],
      "authorship_tag": "ABX9TyOtIfGj0pzPOZDWhbZT45Kh",
      "include_colab_link": true
    },
    "kernelspec": {
      "name": "python3",
      "display_name": "Python 3"
    },
    "language_info": {
      "name": "python"
    }
  },
  "cells": [
    {
      "cell_type": "markdown",
      "metadata": {
        "id": "view-in-github",
        "colab_type": "text"
      },
      "source": [
        "<a href=\"https://colab.research.google.com/github/Taranathpoudel/TN-Poudel/blob/main/Torrent.ipynb\" target=\"_parent\"><img src=\"https://colab.research.google.com/assets/colab-badge.svg\" alt=\"Open In Colab\"/></a>"
      ]
    },
    {
      "cell_type": "markdown",
      "metadata": {
        "id": "yG0BstMLVWZ3"
      },
      "source": [
        "# Torrent Cloud Setup"
      ]
    },
    {
      "cell_type": "code",
      "metadata": {
        "id": "--2g0_JVVakG"
      },
      "source": [
        "!python -m pip install --upgrade pip setuptools wheel\n",
        "!python -m pip install lbry-libtorrent"
      ],
      "execution_count": null,
      "outputs": []
    },
    {
      "cell_type": "markdown",
      "metadata": {
        "id": "5QHEjgJjVhT_"
      },
      "source": [
        "# Torrent Downloader"
      ]
    },
    {
      "cell_type": "code",
      "metadata": {
        "id": "DMn-CFcJVkDP"
      },
      "source": [
        "!mkdir Torrent\n",
        "\n",
        "link = input(\"PASTE TORRENT/MAGNET LINK HERE \\n\") # PASTE TORRENT/MAGNET LINK HERE\n",
        "\n",
        "import libtorrent as lt\n",
        "import time\n",
        "import datetime\n",
        "\n",
        "ses = lt.session()\n",
        "ses.listen_on(6881, 6891)\n",
        "params = {\n",
        "    'save_path': './Torrent/',\n",
        "    'storage_mode': lt.storage_mode_t(2)}\n",
        "\n",
        "print(link)\n",
        "\n",
        "handle = lt.add_magnet_uri(ses, link, params)\n",
        "ses.start_dht()\n",
        "\n",
        "begin = time.time()\n",
        "print(datetime.datetime.now())\n",
        "\n",
        "print ('Downloading Metadata...')\n",
        "while (not handle.has_metadata()):\n",
        "    time.sleep(1)\n",
        "print ('Got Metadata, Starting Torrent Download...')\n",
        "\n",
        "print(\"Starting\", handle.name())\n",
        "\n",
        "while (handle.status().state != lt.torrent_status.seeding):\n",
        "    s = handle.status()\n",
        "    state_str = ['queued', 'checking', 'downloading metadata', \\\n",
        "            'downloading', 'finished', 'seeding', 'allocating']\n",
        "    print ('%.2f%% complete (down: %.1f kb/s up: %.1f kB/s peers: %d) %s ' % \\\n",
        "            (s.progress * 100, s.download_rate / 1000, s.upload_rate / 1000, \\\n",
        "            s.num_peers, state_str[s.state]))\n",
        "    time.sleep(5)\n",
        "\n",
        "end = time.time()\n",
        "print(handle.name(), \"COMPLETE\")\n",
        "\n",
        "print(\"Elapsed Time: \",int((end-begin)//60),\"min :\", int((end-begin)%60), \"sec\")\n",
        "\n",
        "print(datetime.datetime.now())"
      ],
      "execution_count": null,
      "outputs": []
    }
  ]
}